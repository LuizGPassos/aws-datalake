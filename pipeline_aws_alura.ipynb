{
  "nbformat": 4,
  "nbformat_minor": 0,
  "metadata": {
    "colab": {
      "provenance": [],
      "authorship_tag": "ABX9TyNlkCdYMUdV9qXa3oz/iSPF",
      "include_colab_link": true
    },
    "kernelspec": {
      "name": "python3",
      "display_name": "Python 3"
    },
    "language_info": {
      "name": "python"
    }
  },
  "cells": [
    {
      "cell_type": "markdown",
      "metadata": {
        "id": "view-in-github",
        "colab_type": "text"
      },
      "source": [
        "<a href=\"https://colab.research.google.com/github/LuizGPassos/aws-datalake/blob/main/pipeline_aws_alura.ipynb\" target=\"_parent\"><img src=\"https://colab.research.google.com/assets/colab-badge.svg\" alt=\"Open In Colab\"/></a>"
      ]
    },
    {
      "cell_type": "markdown",
      "source": [
        "# Imports e Configs"
      ],
      "metadata": {
        "id": "6alYRhP3v3XD"
      }
    },
    {
      "cell_type": "code",
      "source": [
        "!pip install boto3"
      ],
      "metadata": {
        "colab": {
          "base_uri": "https://localhost:8080/"
        },
        "id": "yAYYpyplyRHO",
        "outputId": "939365e1-7c3b-471d-c47d-ae6d86d2593e"
      },
      "execution_count": null,
      "outputs": [
        {
          "output_type": "stream",
          "name": "stdout",
          "text": [
            "Requirement already satisfied: boto3 in /usr/local/lib/python3.11/dist-packages (1.38.0)\n",
            "Requirement already satisfied: botocore<1.39.0,>=1.38.0 in /usr/local/lib/python3.11/dist-packages (from boto3) (1.38.0)\n",
            "Requirement already satisfied: jmespath<2.0.0,>=0.7.1 in /usr/local/lib/python3.11/dist-packages (from boto3) (1.0.1)\n",
            "Requirement already satisfied: s3transfer<0.13.0,>=0.12.0 in /usr/local/lib/python3.11/dist-packages (from boto3) (0.12.0)\n",
            "Requirement already satisfied: python-dateutil<3.0.0,>=2.1 in /usr/local/lib/python3.11/dist-packages (from botocore<1.39.0,>=1.38.0->boto3) (2.8.2)\n",
            "Requirement already satisfied: urllib3!=2.2.0,<3,>=1.25.4 in /usr/local/lib/python3.11/dist-packages (from botocore<1.39.0,>=1.38.0->boto3) (2.3.0)\n",
            "Requirement already satisfied: six>=1.5 in /usr/local/lib/python3.11/dist-packages (from python-dateutil<3.0.0,>=2.1->botocore<1.39.0,>=1.38.0->boto3) (1.17.0)\n"
          ]
        }
      ]
    },
    {
      "cell_type": "code",
      "execution_count": null,
      "metadata": {
        "id": "HcgtCObpvsKu"
      },
      "outputs": [],
      "source": [
        "!mkdir -p data"
      ]
    },
    {
      "cell_type": "code",
      "source": [
        "import urllib.request\n",
        "import pandas as pd\n",
        "import boto3\n",
        "from io import BytesIO"
      ],
      "metadata": {
        "id": "6rKR3z5Av11l"
      },
      "execution_count": null,
      "outputs": []
    },
    {
      "cell_type": "markdown",
      "source": [
        "# Querys"
      ],
      "metadata": {
        "id": "SMuMqyzVwPpH"
      }
    },
    {
      "cell_type": "code",
      "source": [
        "files = [\n",
        "    'data/boston_2015.csv',\n",
        "    'data/boston_2016.csv',\n",
        "    'data/boston_2017.csv',\n",
        "    'data/boston_2018.csv',\n",
        "    'data/boston_2019.csv',\n",
        "]\n",
        "\n",
        "dfs = {}"
      ],
      "metadata": {
        "id": "KPSl6SRwq3W2"
      },
      "execution_count": null,
      "outputs": []
    },
    {
      "cell_type": "code",
      "source": [
        "for file in files:\n",
        "  ano = file.split(\"_\")[-1].split(\".\")[0]\n",
        "  dfs[ano] = pd.read_csv(file)"
      ],
      "metadata": {
        "colab": {
          "base_uri": "https://localhost:8080/"
        },
        "id": "ilXMnWtQrC2M",
        "outputId": "3e14f685-e1c0-444c-b0bb-3279861231d0"
      },
      "execution_count": null,
      "outputs": [
        {
          "output_type": "stream",
          "name": "stderr",
          "text": [
            "<ipython-input-52-dea4ce3f9c39>:3: DtypeWarning: Columns (13,14) have mixed types. Specify dtype option on import or set low_memory=False.\n",
            "  dfs[ano] = pd.read_csv(file)\n",
            "<ipython-input-52-dea4ce3f9c39>:3: DtypeWarning: Columns (13,14) have mixed types. Specify dtype option on import or set low_memory=False.\n",
            "  dfs[ano] = pd.read_csv(file)\n",
            "<ipython-input-52-dea4ce3f9c39>:3: DtypeWarning: Columns (13) have mixed types. Specify dtype option on import or set low_memory=False.\n",
            "  dfs[ano] = pd.read_csv(file)\n",
            "<ipython-input-52-dea4ce3f9c39>:3: DtypeWarning: Columns (13,14) have mixed types. Specify dtype option on import or set low_memory=False.\n",
            "  dfs[ano] = pd.read_csv(file)\n",
            "<ipython-input-52-dea4ce3f9c39>:3: DtypeWarning: Columns (13) have mixed types. Specify dtype option on import or set low_memory=False.\n",
            "  dfs[ano] = pd.read_csv(file)\n"
          ]
        }
      ]
    },
    {
      "cell_type": "markdown",
      "source": [
        "# AWS Credentials"
      ],
      "metadata": {
        "id": "O6HCSCYVydKf"
      }
    },
    {
      "cell_type": "code",
      "source": [
        "access_key = 'XXXXXXXXXXXXX'\n",
        "secret_key = 'XXXXXXXXXXXXXXXXXXXXXXXXXXXX'\n",
        "region = 'us-east-1'\n",
        "\n",
        "boto3.setup_default_session(\n",
        "\n",
        "  aws_access_key_id = access_key,\n",
        "  aws_secret_access_key = secret_key,\n",
        "  region_name = region\n",
        "\n",
        "\n",
        ")\n",
        "\n",
        "s3 = boto3.client(\"s3\")"
      ],
      "metadata": {
        "id": "KdDRp5tGyfMS"
      },
      "execution_count": null,
      "outputs": []
    },
    {
      "cell_type": "code",
      "source": [
        "for ano, df in dfs.items():\n",
        "  parquet_buffer = BytesIO()\n",
        "  df.to_parquet(parquet_buffer)\n",
        "\n",
        "  s3.put_object(\n",
        "\n",
        "                Bucket = \"alura-datalake-aws-teste\",\n",
        "                Key = f\"bronze/dados_{ano}.parquet\",\n",
        "                Body = parquet_buffer.getvalue(),\n",
        "\n",
        "  )"
      ],
      "metadata": {
        "id": "HUaYPKvz1LOQ"
      },
      "execution_count": null,
      "outputs": []
    },
    {
      "cell_type": "code",
      "source": [
        "response = s3.list_objects(Bucket = \"alura-datalake-aws-teste\")\n",
        "\n",
        "keys = [obj[\"Key\"] for obj in response [\"Contents\"]]\n",
        "print(keys)"
      ],
      "metadata": {
        "colab": {
          "base_uri": "https://localhost:8080/"
        },
        "id": "EmmfO2qH2xiy",
        "outputId": "7052bdb0-0a7d-449d-b252-67333d57a362"
      },
      "execution_count": null,
      "outputs": [
        {
          "output_type": "stream",
          "name": "stdout",
          "text": [
            "['bronze/', 'bronze/dados_2015.parquet', 'bronze/dados_2016.parquet', 'bronze/dados_2017.parquet', 'bronze/dados_2018.parquet', 'bronze/dados_2019.parquet', 'bronze/hello', 'silver/']\n"
          ]
        }
      ]
    }
  ]
}